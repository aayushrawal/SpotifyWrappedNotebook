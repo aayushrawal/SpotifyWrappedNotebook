{
 "cells": [
  {
   "cell_type": "code",
   "execution_count": null,
   "metadata": {},
   "outputs": [],
   "source": [
    "# Spotify API endpoints for spotify wrapped"
   ]
  },
  {
   "cell_type": "code",
   "execution_count": null,
   "metadata": {},
   "outputs": [],
   "source": [
    "# Installing required libraries, if not already present\n",
    "!pip3 install spotipy\n",
    "!pip3 install pandas"
   ]
  },
  {
   "cell_type": "code",
   "execution_count": null,
   "metadata": {},
   "outputs": [],
   "source": [
    "# Importing required libraries\n",
    "import spotipy\n",
    "from spotipy.oauth2 import SpotifyOAuth\n",
    "import pandas as pd\n",
    "import json"
   ]
  },
  {
   "cell_type": "code",
   "execution_count": null,
   "metadata": {},
   "outputs": [],
   "source": [
    "def read_json(file_path):\n",
    "    with open(file_path, \"r\") as f:\n",
    "        return json.load(f)\n",
    "\n",
    "SPOTIPY_CLIENT_ID = read_json(\"/Users/aayushrawal/Desktop/config.json\")['keys']['SPOTIPY_CLIENT_ID']\n",
    "SPOTIPY_CLIENT_SECRET = read_json(\"/Users/aayushrawal/Desktop/config.json\")['keys']['SPOTIPY_CLIENT_SECRET']\n",
    "SPOTIPY_REDIRECT_URI = read_json(\"/Users/aayushrawal/Desktop/config.json\")['keys']['SPOTIPY_REDIRECT_URI']\n",
    "SCOPE = read_json(\"/Users/aayushrawal/Desktop/config.json\")['keys']['SCOPE']\n"
   ]
  },
  {
   "cell_type": "code",
   "execution_count": null,
   "metadata": {},
   "outputs": [],
   "source": [
    "# Spotipy object\n",
    "sp = spotipy.Spotify(auth_manager=SpotifyOAuth(client_id = SPOTIPY_CLIENT_ID, client_secret = SPOTIPY_CLIENT_SECRET, redirect_uri = SPOTIPY_REDIRECT_URI, scope = SCOPE))"
   ]
  },
  {
   "cell_type": "code",
   "execution_count": null,
   "metadata": {},
   "outputs": [],
   "source": [
    "# Defining variables that contain top tracks of the user over different time frames> {'short_term': 'about 4 weeks', 'medium_term': 'about 6 months', 'long_term': 'overall data available in spotify databases'}\n",
    "top_track_short = sp.current_user_top_tracks(limit = 20, offset = 0, time_range = 'short_term')\n",
    "top_track_medium = sp.current_user_top_tracks(limit = 20, offset = 0, time_range = 'medium_term')\n",
    "top_track_long = sp.current_user_top_tracks(limit = 20, offset = 0, time_range = 'long_term')"
   ]
  },
  {
   "cell_type": "code",
   "execution_count": null,
   "metadata": {},
   "outputs": [],
   "source": [
    "# Defining variables that contain top artists of the user over different time frames> {'short_term': 'about 4 weeks', 'medium_term': 'about 6 months', 'long_term': 'overall data available in spotify databases'}\n",
    "top_artist_short = sp.current_user_top_artists(limit=20, offset=0, time_range='short_term')\n",
    "top_artist_medium = sp.current_user_top_artists(limit=20, offset=0, time_range='medium_term')\n",
    "top_artist_long = sp.current_user_top_artists(limit=20, offset=0, time_range='long_term')"
   ]
  },
  {
   "cell_type": "code",
   "execution_count": null,
   "metadata": {},
   "outputs": [],
   "source": [
    "def get_track_ids(time_frame):\n",
    "    # Function to get list of track IDs from the json returned by top tracks variables\n",
    "    track_ids = []\n",
    "    for song in time_frame['items']:\n",
    "        track_ids.append(song['id'])\n",
    "    return(track_ids)"
   ]
  },
  {
   "cell_type": "code",
   "execution_count": null,
   "metadata": {},
   "outputs": [],
   "source": [
    "def get_artist_ids(time_frame):\n",
    "    # Function to get list of artist IDs from the json returned by top artist variables\n",
    "    artist_ids = []\n",
    "    for artist in time_frame['items']:\n",
    "        artist_ids.append(artist['id'])\n",
    "    return(artist_ids)"
   ]
  },
  {
   "cell_type": "code",
   "execution_count": null,
   "metadata": {},
   "outputs": [],
   "source": [
    "# Defining lists of track IDs\n",
    "track_ids_long = get_track_ids(top_track_long)\n",
    "track_ids_medium = get_track_ids(top_track_medium)\n",
    "track_ids_short = get_track_ids(top_track_short)\n"
   ]
  },
  {
   "cell_type": "code",
   "execution_count": null,
   "metadata": {},
   "outputs": [],
   "source": [
    "# Defining lists of artist IDs\n",
    "artist_ids_long = get_artist_ids(top_artist_long)\n",
    "artist_ids_medium = get_artist_ids(top_artist_medium)\n",
    "artist_ids_short = get_artist_ids(top_artist_short)"
   ]
  },
  {
   "cell_type": "code",
   "execution_count": null,
   "metadata": {},
   "outputs": [],
   "source": [
    "def get_track_features(id):\n",
    "    # Getting metadata of tracks for representation purposes\n",
    "    meta = sp.track(id)\n",
    "    name = meta['name']\n",
    "    album = meta['album']['name']\n",
    "    artist = meta['album']['artists'][0]['name']\n",
    "    spotify_url = meta['external_urls']['spotify']\n",
    "    album_cover = meta['album']['images'][0]['url']\n",
    "    track_info = [name, album, artist, spotify_url, album_cover]\n",
    "    return(track_info)"
   ]
  },
  {
   "cell_type": "code",
   "execution_count": null,
   "metadata": {},
   "outputs": [],
   "source": [
    "def get_artist_info(id):\n",
    "    # Getting metadata of artists for representation purposes\n",
    "    meta = sp.artist(id)\n",
    "    name = meta['name']\n",
    "    genres = meta['genres']\n",
    "    spotify_url = meta['external_urls']['spotify']\n",
    "    artist_image = meta['images'][0]['url']\n",
    "    artist_info = [name, genres, spotify_url, artist_image]\n",
    "    return(artist_info)"
   ]
  },
  {
   "cell_type": "code",
   "execution_count": null,
   "metadata": {},
   "outputs": [],
   "source": [
    "def track_dataframe(track_ids):\n",
    "    # Defining track dataframe and inserting input data into the frame\n",
    "    tracks = []\n",
    "    for i in range(len(track_ids)):\n",
    "        track = get_track_features(track_ids[i])\n",
    "        tracks.append(track)\n",
    "        \n",
    "    return(pd.DataFrame(tracks, columns = ['name', 'album', 'artist', 'spotify_url', 'album_cover']))"
   ]
  },
  {
   "cell_type": "code",
   "execution_count": null,
   "metadata": {},
   "outputs": [],
   "source": [
    "track_dataframe(track_ids_short)"
   ]
  },
  {
   "cell_type": "code",
   "execution_count": null,
   "metadata": {},
   "outputs": [],
   "source": [
    "track_dataframe(track_ids_medium)"
   ]
  },
  {
   "cell_type": "code",
   "execution_count": null,
   "metadata": {},
   "outputs": [],
   "source": [
    "track_dataframe(track_ids_long)"
   ]
  },
  {
   "cell_type": "code",
   "execution_count": null,
   "metadata": {},
   "outputs": [],
   "source": [
    "def artist_dataframe(artist_ids):\n",
    "    # Defining artist dataframe and inserting input data into the frame\n",
    "    artists = []\n",
    "    for i in range(len(artist_ids)):\n",
    "        artist = get_artist_info(artist_ids[i])\n",
    "        artists.append(artist)\n",
    "        \n",
    "    return(pd.DataFrame(artists, columns = ['name', 'genre', 'spotify_url', 'artist_image']))"
   ]
  },
  {
   "cell_type": "code",
   "execution_count": null,
   "metadata": {},
   "outputs": [],
   "source": [
    "artist_dataframe(artist_ids_short)"
   ]
  },
  {
   "cell_type": "code",
   "execution_count": null,
   "metadata": {},
   "outputs": [],
   "source": [
    "artist_dataframe(artist_ids_medium)"
   ]
  },
  {
   "cell_type": "code",
   "execution_count": null,
   "metadata": {},
   "outputs": [],
   "source": [
    "artist_dataframe(artist_ids_long)"
   ]
  }
 ],
 "metadata": {
  "interpreter": {
   "hash": "aee8b7b246df8f9039afb4144a1f6fd8d2ca17a180786b69acc140d282b71a49"
  },
  "kernelspec": {
   "display_name": "Python 3.9.7 64-bit",
   "language": "python",
   "name": "python3"
  },
  "language_info": {
   "codemirror_mode": {
    "name": "ipython",
    "version": 3
   },
   "file_extension": ".py",
   "mimetype": "text/x-python",
   "name": "python",
   "nbconvert_exporter": "python",
   "pygments_lexer": "ipython3",
   "version": "3.9.7"
  },
  "orig_nbformat": 4
 },
 "nbformat": 4,
 "nbformat_minor": 2
}
